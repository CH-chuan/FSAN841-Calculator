{
 "cells": [
  {
   "cell_type": "markdown",
   "metadata": {},
   "source": [
    "# No Arbitrage Pricing"
   ]
  },
  {
   "cell_type": "markdown",
   "metadata": {},
   "source": [
    "Open interest is the total number of outstanding contracts (either long or short) in a futures market.\n",
    "\n",
    "Volumn counts the number of futures trades.\n",
    "\n",
    "The settlement price in a futures market is the price used by the exchange to determine the daily profit or loss, margin requirements, and, in some cases, the final value of a futures contract at expiration.\n",
    "\n",
    "\n",
    "\n"
   ]
  },
  {
   "cell_type": "code",
   "execution_count": 25,
   "metadata": {},
   "outputs": [],
   "source": [
    "from math import exp, log"
   ]
  },
  {
   "cell_type": "code",
   "execution_count": 20,
   "metadata": {},
   "outputs": [
    {
     "data": {
      "text/plain": [
       "10.386366511620793"
      ]
     },
     "execution_count": 20,
     "metadata": {},
     "output_type": "execute_result"
    }
   ],
   "source": [
    "def cal_dolloar_profit(sell_price, buy_price, t, r=0, fee=0):\n",
    "    return sell_price - buy_price * exp(r*t) - fee\n",
    "cal_dolloar_profit(268, 250, 1, 0.03)"
   ]
  },
  {
   "cell_type": "code",
   "execution_count": 1,
   "metadata": {},
   "outputs": [],
   "source": [
    "def forward_payoff(S_T, F, type='long'):\n",
    "    \"\"\"\n",
    "    S_T: price of the underlying asset at time T\n",
    "    F: forward price, i.e. pre-agreed price of the underlying asset at time T\n",
    "    \"\"\"\n",
    "    if type == 'long':\n",
    "        return S_T - F\n",
    "    else:\n",
    "        return F - S_T"
   ]
  },
  {
   "cell_type": "markdown",
   "metadata": {},
   "source": [
    "Call option: give owner the right to buy an asset in the future with cost $C, and at strike price $K (sometimes denoted by $X) set today. The owner of the option has rights, while sell is obligated to sell when exercised.\n",
    "\n",
    "Put option: give owner the right to sell in the future with cost $P, and at strike price (sometimes denoted by $X) set today. The owner of the option has rights, the seller of a put option is obligated to buy if excercised."
   ]
  },
  {
   "cell_type": "code",
   "execution_count": null,
   "metadata": {},
   "outputs": [],
   "source": [
    "def cal_fv(pv, r, t):\n",
    "    \"\"\"\n",
    "    pv: present value\n",
    "    r: continious interest rate\n",
    "    t: time period in years\n",
    "    \"\"\"\n",
    "    return pv * exp(r*t)"
   ]
  },
  {
   "cell_type": "code",
   "execution_count": null,
   "metadata": {},
   "outputs": [],
   "source": [
    "def call_payoff(S_T, K, type='long'):\n",
    "    \"\"\"\n",
    "    S_T: price of the underlying asset at time T\n",
    "    K: strike price\n",
    "    \"\"\"\n",
    "    if type == 'long':\n",
    "        return max(S_T - K, 0)\n",
    "    else:\n",
    "        return -max(S_T - K, 0)\n",
    "\n",
    "def call_profit(S_T, K, fv_cost, type='long'):\n",
    "    if type == 'long':\n",
    "        return call_payoff(S_T, K, type) - fv_cost # notice that this is future value! Should be adjusted!!\n",
    "    else:\n",
    "        return call_payoff(S_T, K, type) + fv_cost"
   ]
  },
  {
   "cell_type": "code",
   "execution_count": null,
   "metadata": {},
   "outputs": [],
   "source": [
    "def put_payoff(S_T, K, type='long'):\n",
    "    \"\"\"\n",
    "    S_T: price of the underlying asset at time T\n",
    "    K: strike price\n",
    "    \"\"\"\n",
    "    if type == 'long':\n",
    "        return max(K - S_T, 0)\n",
    "    else:\n",
    "        return -max(K - S_T, 0)\n",
    "\n",
    "def put_profit(S_T, K, fv_cost, type='long'):\n",
    "    if type == 'long':\n",
    "        return put_payoff(S_T, K, type) - fv_cost\n",
    "    else:\n",
    "        return put_payoff(S_T, K, type) + fv_cost"
   ]
  },
  {
   "cell_type": "markdown",
   "metadata": {},
   "source": [
    "spot market\n",
    "\n",
    "forward market\n",
    "\n",
    "option market\n",
    "\n",
    "\n",
    "<img src=\"image.png\" alt=\"Alt text\" width=\"500\">"
   ]
  },
  {
   "cell_type": "code",
   "execution_count": 73,
   "metadata": {},
   "outputs": [
    {
     "data": {
      "text/plain": [
       "0.0027777777777777775"
      ]
     },
     "execution_count": 73,
     "metadata": {},
     "output_type": "execute_result"
    }
   ],
   "source": [
    "1/12/30"
   ]
  },
  {
   "cell_type": "code",
   "execution_count": 12,
   "metadata": {},
   "outputs": [
    {
     "data": {
      "text/plain": [
       "3069.054534727379"
      ]
     },
     "execution_count": 12,
     "metadata": {},
     "output_type": "execute_result"
    }
   ],
   "source": [
    "def spot_to_forward(S_0, r, t, q=0, D=0):\n",
    "    \"\"\"\n",
    "    S_0: spot price of the underlying asset\n",
    "    r: risk-free rate\n",
    "    t: time to maturity\n",
    "    q: dividend yield\n",
    "    D: dividend\n",
    "    \"\"\"\n",
    "    return (S_0-D) * exp((r - q) * t)\n",
    "S_0 = 3056.65\n",
    "q = 0.0196\n",
    "t = 9/12\n",
    "r = 0.025\n",
    "D = 0\n",
    "F = spot_to_forward(S_0, r, t, q, D)\n",
    "F"
   ]
  },
  {
   "cell_type": "code",
   "execution_count": 76,
   "metadata": {},
   "outputs": [
    {
     "data": {
      "text/plain": [
       "80.59309669215834"
      ]
     },
     "execution_count": 76,
     "metadata": {},
     "output_type": "execute_result"
    }
   ],
   "source": [
    "S_0 = 78.8\n",
    "q = 0\n",
    "t = 9/12\n",
    "r = 0.03\n",
    "D = 0\n",
    "F = spot_to_forward(S_0, r, t, q, D)\n",
    "F"
   ]
  },
  {
   "cell_type": "code",
   "execution_count": 77,
   "metadata": {},
   "outputs": [
    {
     "data": {
      "text/plain": [
       "124.4645634832642"
      ]
     },
     "execution_count": 77,
     "metadata": {},
     "output_type": "execute_result"
    }
   ],
   "source": [
    "S_0 = 122\n",
    "q = 0\n",
    "t = 6/12\n",
    "r = 0.04\n",
    "D = 0\n",
    "F = spot_to_forward(S_0, r, t, q, D)\n",
    "F"
   ]
  },
  {
   "cell_type": "code",
   "execution_count": 78,
   "metadata": {},
   "outputs": [
    {
     "data": {
      "text/plain": [
       "124.4645634832642"
      ]
     },
     "execution_count": 78,
     "metadata": {},
     "output_type": "execute_result"
    }
   ],
   "source": [
    "122 * exp(0.04*0.5)"
   ]
  },
  {
   "cell_type": "code",
   "execution_count": 9,
   "metadata": {},
   "outputs": [
    {
     "data": {
      "text/plain": [
       "42.71792377906166"
      ]
     },
     "execution_count": 9,
     "metadata": {},
     "output_type": "execute_result"
    }
   ],
   "source": [
    "def spot_to_forward_varidiv(S_0, r, t, D, t_D, q=0):\n",
    "    \"\"\"\n",
    "    S_0: spot price of the underlying asset\n",
    "    r: risk-free rate\n",
    "    t: time to maturity\n",
    "    D: list of dividends\n",
    "    t_D: list of time to dividends, in annual fraction\n",
    "    \"\"\"\n",
    "    F = S_0 * exp((r - q) * t)\n",
    "    for i in range(len(D)):\n",
    "        F -= D[i] * exp((r-q) * t_D[i])\n",
    "    return F\n",
    "S_0 = 43.62\n",
    "D = [0.72, 0.72]\n",
    "t_D = [63/365, 154/365]\n",
    "r = 0.025\n",
    "t = 0.5\n",
    "spot_to_forward_varidiv(S_0, r, t, D, t_D)\n",
    "    "
   ]
  },
  {
   "cell_type": "code",
   "execution_count": 50,
   "metadata": {},
   "outputs": [],
   "source": [
    "def continuous_to_apr(r):\n",
    "    \"\"\"\n",
    "    Converts a continuously compounded annual rate to an Annual Percentage Rate (APR).\n",
    "    :param r: Continuous annual rate (as a decimal)\n",
    "    :return: APR (as a decimal)\n",
    "    \"\"\"\n",
    "    return exp(r) - 1\n",
    "\n",
    "def apr_to_t_period(apr, t):\n",
    "    \"\"\"\n",
    "    Converts an APR to the equivalent periodic rate for t compounding periods per year.\n",
    "    :param apr: Annual Percentage Rate (as a decimal)\n",
    "    :param t: Number of compounding periods per year (e.g., 12 for monthly)\n",
    "    :return: Periodic rate (as a decimal)\n",
    "    \"\"\"\n",
    "    return apr / t"
   ]
  },
  {
   "cell_type": "code",
   "execution_count": 60,
   "metadata": {},
   "outputs": [
    {
     "data": {
      "text/plain": [
       "1550.3312044313766"
      ]
     },
     "execution_count": 60,
     "metadata": {},
     "output_type": "execute_result"
    }
   ],
   "source": [
    "def spot_to_forward_with_store_cost(S_0, r, t, c=0, t_c=1, q=0, D=0):\n",
    "    \"\"\"\n",
    "    S_0: spot price of the underlying asset\n",
    "    r: risk-free rate\n",
    "    t: time to maturity\n",
    "    q: dividend yield\n",
    "    D: dividend\n",
    "    c: cost of carry\n",
    "    t_c: time to carry cost, in annual fraction\n",
    "    \"\"\"\n",
    "\n",
    "    F = S_0 * exp((r - q) * t)\n",
    "    for i in range(int(t/t_c)):\n",
    "        F += c * exp((r-q) * (t-i*t_c))\n",
    "    return F\n",
    "S_0 = 1522\n",
    "c = 1.52\n",
    "t_c = 1/12\n",
    "r = 0.025\n",
    "t = 0.5\n",
    "spot_to_forward_with_store_cost(S_0, r, t, c, t_c)"
   ]
  },
  {
   "cell_type": "code",
   "execution_count": 13,
   "metadata": {},
   "outputs": [
    {
     "data": {
      "text/plain": [
       "3071.2202182308456"
      ]
     },
     "execution_count": 13,
     "metadata": {},
     "output_type": "execute_result"
    }
   ],
   "source": [
    "def forward_to_spot(F, r, t, q=0, D=0, c=0):\n",
    "    \"\"\"\n",
    "    F: forward price\n",
    "    r: risk-free rate\n",
    "    t: time to maturity\n",
    "    q: dividend yield\n",
    "    D: dividend\n",
    "    c: storage cost per unit, annualized\n",
    "    \"\"\"\n",
    "    return F * exp((q - r) * t) + D - c\n",
    "F = 3072.22\n",
    "q = 0.0196\n",
    "r = 0.025\n",
    "t = 22/365\n",
    "forward_to_spot(F, r, t, q)\n"
   ]
  },
  {
   "cell_type": "code",
   "execution_count": null,
   "metadata": {},
   "outputs": [
    {
     "data": {
      "text/plain": [
       "25.790339917192796"
      ]
     },
     "execution_count": 8,
     "metadata": {},
     "output_type": "execute_result"
    }
   ],
   "source": [
    "S_0 = 43.62\n"
   ]
  },
  {
   "cell_type": "code",
   "execution_count": 84,
   "metadata": {},
   "outputs": [
    {
     "data": {
      "text/plain": [
       "4.268812651604435"
      ]
     },
     "execution_count": 84,
     "metadata": {},
     "output_type": "execute_result"
    }
   ],
   "source": [
    "S_0 = 68.75\n",
    "K = 70\n",
    "p = 3.45\n",
    "r = 0.03\n",
    "t = 1\n",
    "def cal_call_price_from_put(S_0, K, p, r, t):\n",
    "    \"\"\"\n",
    "    S_0: spot price of the underlying asset\n",
    "    K: strike price\n",
    "    p: put price\n",
    "    r: risk-free rate\n",
    "    t: time to maturity\n",
    "    \"\"\"\n",
    "    return p + S_0 - K * exp(-r*t)\n",
    "cal_call_price_from_put(S_0, K, p, r, t)"
   ]
  },
  {
   "cell_type": "code",
   "execution_count": null,
   "metadata": {},
   "outputs": [],
   "source": []
  },
  {
   "cell_type": "markdown",
   "metadata": {},
   "source": [
    "# Binomial and BSM Pricing\n",
    "\n",
    "We need to know something about the 'price process' - or how prices evolve through time, because ultimately the price of a call option depends on \n",
    "\n",
    "1. the probability that ST > K,\n",
    "\n",
    "2. E(ST | ST > K)"
   ]
  },
  {
   "cell_type": "markdown",
   "metadata": {},
   "source": [
    "## Binomial"
   ]
  },
  {
   "cell_type": "code",
   "execution_count": 64,
   "metadata": {},
   "outputs": [],
   "source": [
    "import pandas as pd"
   ]
  },
  {
   "cell_type": "code",
   "execution_count": 72,
   "metadata": {},
   "outputs": [
    {
     "data": {
      "text/plain": [
       "0.16844935407542097"
      ]
     },
     "execution_count": 72,
     "metadata": {},
     "output_type": "execute_result"
    }
   ],
   "source": [
    "5*0.4872*(1-0.4872)**4"
   ]
  },
  {
   "cell_type": "code",
   "execution_count": null,
   "metadata": {},
   "outputs": [
    {
     "data": {
      "text/html": [
       "<div>\n",
       "<style scoped>\n",
       "    .dataframe tbody tr th:only-of-type {\n",
       "        vertical-align: middle;\n",
       "    }\n",
       "\n",
       "    .dataframe tbody tr th {\n",
       "        vertical-align: top;\n",
       "    }\n",
       "\n",
       "    .dataframe thead th {\n",
       "        text-align: right;\n",
       "    }\n",
       "</style>\n",
       "<table border=\"1\" class=\"dataframe\">\n",
       "  <thead>\n",
       "    <tr style=\"text-align: right;\">\n",
       "      <th></th>\n",
       "      <th>0</th>\n",
       "      <th>1</th>\n",
       "      <th>2</th>\n",
       "      <th>3</th>\n",
       "      <th>4</th>\n",
       "      <th>5</th>\n",
       "      <th>6</th>\n",
       "      <th>7</th>\n",
       "      <th>8</th>\n",
       "      <th>9</th>\n",
       "      <th>10</th>\n",
       "    </tr>\n",
       "  </thead>\n",
       "  <tbody>\n",
       "    <tr>\n",
       "      <th>0</th>\n",
       "      <td>24</td>\n",
       "      <td>NaN</td>\n",
       "      <td>NaN</td>\n",
       "      <td>NaN</td>\n",
       "      <td>NaN</td>\n",
       "      <td>NaN</td>\n",
       "      <td>NaN</td>\n",
       "      <td>NaN</td>\n",
       "      <td>NaN</td>\n",
       "      <td>NaN</td>\n",
       "      <td>NaN</td>\n",
       "    </tr>\n",
       "    <tr>\n",
       "      <th>1</th>\n",
       "      <td>24.48</td>\n",
       "      <td>23.529412</td>\n",
       "      <td>NaN</td>\n",
       "      <td>NaN</td>\n",
       "      <td>NaN</td>\n",
       "      <td>NaN</td>\n",
       "      <td>NaN</td>\n",
       "      <td>NaN</td>\n",
       "      <td>NaN</td>\n",
       "      <td>NaN</td>\n",
       "      <td>NaN</td>\n",
       "    </tr>\n",
       "    <tr>\n",
       "      <th>2</th>\n",
       "      <td>24.9696</td>\n",
       "      <td>24.0</td>\n",
       "      <td>23.068051</td>\n",
       "      <td>NaN</td>\n",
       "      <td>NaN</td>\n",
       "      <td>NaN</td>\n",
       "      <td>NaN</td>\n",
       "      <td>NaN</td>\n",
       "      <td>NaN</td>\n",
       "      <td>NaN</td>\n",
       "      <td>NaN</td>\n",
       "    </tr>\n",
       "    <tr>\n",
       "      <th>3</th>\n",
       "      <td>25.468992</td>\n",
       "      <td>24.48</td>\n",
       "      <td>23.529412</td>\n",
       "      <td>22.615736</td>\n",
       "      <td>NaN</td>\n",
       "      <td>NaN</td>\n",
       "      <td>NaN</td>\n",
       "      <td>NaN</td>\n",
       "      <td>NaN</td>\n",
       "      <td>NaN</td>\n",
       "      <td>NaN</td>\n",
       "    </tr>\n",
       "    <tr>\n",
       "      <th>4</th>\n",
       "      <td>25.978372</td>\n",
       "      <td>24.9696</td>\n",
       "      <td>24.0</td>\n",
       "      <td>23.068051</td>\n",
       "      <td>22.17229</td>\n",
       "      <td>NaN</td>\n",
       "      <td>NaN</td>\n",
       "      <td>NaN</td>\n",
       "      <td>NaN</td>\n",
       "      <td>NaN</td>\n",
       "      <td>NaN</td>\n",
       "    </tr>\n",
       "    <tr>\n",
       "      <th>5</th>\n",
       "      <td>26.497939</td>\n",
       "      <td>25.468992</td>\n",
       "      <td>24.48</td>\n",
       "      <td>23.529412</td>\n",
       "      <td>22.615736</td>\n",
       "      <td>21.737539</td>\n",
       "      <td>NaN</td>\n",
       "      <td>NaN</td>\n",
       "      <td>NaN</td>\n",
       "      <td>NaN</td>\n",
       "      <td>NaN</td>\n",
       "    </tr>\n",
       "    <tr>\n",
       "      <th>6</th>\n",
       "      <td>27.027898</td>\n",
       "      <td>25.978372</td>\n",
       "      <td>24.9696</td>\n",
       "      <td>24.0</td>\n",
       "      <td>23.068051</td>\n",
       "      <td>22.17229</td>\n",
       "      <td>21.311313</td>\n",
       "      <td>NaN</td>\n",
       "      <td>NaN</td>\n",
       "      <td>NaN</td>\n",
       "      <td>NaN</td>\n",
       "    </tr>\n",
       "    <tr>\n",
       "      <th>7</th>\n",
       "      <td>27.568456</td>\n",
       "      <td>26.497939</td>\n",
       "      <td>25.468992</td>\n",
       "      <td>24.48</td>\n",
       "      <td>23.529412</td>\n",
       "      <td>22.615736</td>\n",
       "      <td>21.737539</td>\n",
       "      <td>20.893444</td>\n",
       "      <td>NaN</td>\n",
       "      <td>NaN</td>\n",
       "      <td>NaN</td>\n",
       "    </tr>\n",
       "    <tr>\n",
       "      <th>8</th>\n",
       "      <td>28.119825</td>\n",
       "      <td>27.027898</td>\n",
       "      <td>25.978372</td>\n",
       "      <td>24.9696</td>\n",
       "      <td>24.0</td>\n",
       "      <td>23.068051</td>\n",
       "      <td>22.17229</td>\n",
       "      <td>21.311313</td>\n",
       "      <td>20.483769</td>\n",
       "      <td>NaN</td>\n",
       "      <td>NaN</td>\n",
       "    </tr>\n",
       "    <tr>\n",
       "      <th>9</th>\n",
       "      <td>28.682222</td>\n",
       "      <td>27.568456</td>\n",
       "      <td>26.497939</td>\n",
       "      <td>25.468992</td>\n",
       "      <td>24.48</td>\n",
       "      <td>23.529412</td>\n",
       "      <td>22.615736</td>\n",
       "      <td>21.737539</td>\n",
       "      <td>20.893444</td>\n",
       "      <td>20.082126</td>\n",
       "      <td>NaN</td>\n",
       "    </tr>\n",
       "    <tr>\n",
       "      <th>10</th>\n",
       "      <td>29.255866</td>\n",
       "      <td>28.119825</td>\n",
       "      <td>27.027898</td>\n",
       "      <td>25.978372</td>\n",
       "      <td>24.9696</td>\n",
       "      <td>24.0</td>\n",
       "      <td>23.068051</td>\n",
       "      <td>22.17229</td>\n",
       "      <td>21.311313</td>\n",
       "      <td>20.483769</td>\n",
       "      <td>19.688359</td>\n",
       "    </tr>\n",
       "  </tbody>\n",
       "</table>\n",
       "</div>"
      ],
      "text/plain": [
       "           0          1          2          3          4          5   \\\n",
       "0          24        NaN        NaN        NaN        NaN        NaN   \n",
       "1       24.48  23.529412        NaN        NaN        NaN        NaN   \n",
       "2     24.9696       24.0  23.068051        NaN        NaN        NaN   \n",
       "3   25.468992      24.48  23.529412  22.615736        NaN        NaN   \n",
       "4   25.978372    24.9696       24.0  23.068051   22.17229        NaN   \n",
       "5   26.497939  25.468992      24.48  23.529412  22.615736  21.737539   \n",
       "6   27.027898  25.978372    24.9696       24.0  23.068051   22.17229   \n",
       "7   27.568456  26.497939  25.468992      24.48  23.529412  22.615736   \n",
       "8   28.119825  27.027898  25.978372    24.9696       24.0  23.068051   \n",
       "9   28.682222  27.568456  26.497939  25.468992      24.48  23.529412   \n",
       "10  29.255866  28.119825  27.027898  25.978372    24.9696       24.0   \n",
       "\n",
       "           6          7          8          9          10  \n",
       "0         NaN        NaN        NaN        NaN        NaN  \n",
       "1         NaN        NaN        NaN        NaN        NaN  \n",
       "2         NaN        NaN        NaN        NaN        NaN  \n",
       "3         NaN        NaN        NaN        NaN        NaN  \n",
       "4         NaN        NaN        NaN        NaN        NaN  \n",
       "5         NaN        NaN        NaN        NaN        NaN  \n",
       "6   21.311313        NaN        NaN        NaN        NaN  \n",
       "7   21.737539  20.893444        NaN        NaN        NaN  \n",
       "8    22.17229  21.311313  20.483769        NaN        NaN  \n",
       "9   22.615736  21.737539  20.893444  20.082126        NaN  \n",
       "10  23.068051   22.17229  21.311313  20.483769  19.688359  "
      ]
     },
     "execution_count": 68,
     "metadata": {},
     "output_type": "execute_result"
    }
   ],
   "source": [
    "def binomial_pricing(S_0, u, d, t_max=10):\n",
    "    \"\"\"\n",
    "    S_0: spot price of the underlying asset\n",
    "    u: up movement\n",
    "    d: down movement\n",
    "    t: time to maturity\n",
    "    \"\"\"\n",
    "    # build a table to store the price of the underlying asset\n",
    "    # with j as the number of times of up movement, t_max - j as the number of times of down movement\n",
    "    df = pd.DataFrame(index=range(t_max+1), columns=range(t_max+1))\n",
    "    df.iloc[0, 0] = S_0\n",
    "    for j in range(1, t_max+1):\n",
    "        df.iloc[j, 0] = df.iloc[j-1, 0] * u\n",
    "        for i in range(1, j+1):\n",
    "            df.iloc[j, i] = df.iloc[j-1, i-1] * d\n",
    "    return df\n",
    "S_0 = 24\n",
    "x = 0.02\n",
    "t_max = 10\n",
    "# row is the time period, 0, 1, 2, 3, 4, 5, 6, 7, 8, 9, 10\n",
    "# column is the number of down movement, 0, 1, 2, 3, 4, 5, 6, 7, 8, 9, 10\n",
    "binomial_pricing(S_0, x, t_max)\n"
   ]
  },
  {
   "cell_type": "code",
   "execution_count": null,
   "metadata": {},
   "outputs": [],
   "source": [
    "S_0 = 36\n",
    "x = 0.02\n",
    "t_max = 10\n",
    "# row is the time period, 0, 1, 2, 3, 4, 5, 6, 7, 8, 9, 10\n",
    "# column is the number of down movement, 0, 1, 2, 3, 4, 5, 6, 7, 8, 9, 10\n",
    "binomial_pricing(S_0, u, d, t_max)"
   ]
  },
  {
   "cell_type": "code",
   "execution_count": 69,
   "metadata": {},
   "outputs": [
    {
     "data": {
      "text/plain": [
       "0.22627416997969524"
      ]
     },
     "execution_count": 69,
     "metadata": {},
     "output_type": "execute_result"
    }
   ],
   "source": [
    "# from annual return variance to time-t period standard deviation\n",
    "def annual_var_to_period_t_std(var, t):\n",
    "    sd = var ** 0.5\n",
    "    t_component = t ** 0.5\n",
    "    return sd * t_component\n",
    "\n",
    "annual_var = 0.1024\n",
    "t = 6/12 # i.e. 6 months\n",
    "annual_var_to_period_t_std(annual_var, t)"
   ]
  },
  {
   "cell_type": "code",
   "execution_count": null,
   "metadata": {},
   "outputs": [],
   "source": [
    "# after calculating time-t-period standard deviation,\n",
    "# we can calculate the u and d, the up and down factors\n",
    "def cal_period_volatility_from_period_std(std):\n",
    "    u = exp(std)\n",
    "    d = 1/u\n",
    "    return u, d"
   ]
  },
  {
   "cell_type": "code",
   "execution_count": null,
   "metadata": {},
   "outputs": [],
   "source": []
  },
  {
   "cell_type": "code",
   "execution_count": 81,
   "metadata": {},
   "outputs": [
    {
     "name": "stdout",
     "output_type": "stream",
     "text": [
      "Call Option Value: 4.82\n"
     ]
    }
   ],
   "source": [
    "import math\n",
    "\n",
    "def calculate_call_option(S0, K, r, T, sigma, n):\n",
    "    # Step 1: Calculate h, u, and d\n",
    "    h = T / n\n",
    "    u = math.exp(sigma * math.sqrt(h))\n",
    "    d = 1 / u\n",
    "    \n",
    "    # Step 2: Calculate p and 1-p\n",
    "    p = (math.exp(r * h) - d) / (u - d)\n",
    "    q = 1 - p\n",
    "    \n",
    "    # Step 3: Calculate Su_n, Cu_n recursively\n",
    "    option_payoffs = []\n",
    "    for j in range(n + 1):\n",
    "        S = S0 * (u ** (n - j)) * (d ** j)\n",
    "        C = max(0, S - K)  # Payoff for call option\n",
    "        option_payoffs.append(C)\n",
    "    \n",
    "    # Step 4: Back-propagate to find the option value at t=0\n",
    "    for i in range(n - 1, -1, -1):\n",
    "        for j in range(i + 1):\n",
    "            option_payoffs[j] = math.exp(-r * h) * (p * option_payoffs[j] + q * option_payoffs[j + 1])\n",
    "    \n",
    "    # The option value at t=0 is at the first position\n",
    "    return round(option_payoffs[0], 2)\n",
    "\n",
    "# Example parameters\n",
    "S0 = 42  # Current stock price\n",
    "K = 44   # Strike price\n",
    "r = 0.03  # Annual risk-free interest rate\n",
    "T = 0.75  # Time to maturity in years (9 months)\n",
    "sigma = 0.35  # Annual volatility\n",
    "n = 5  # Number of steps\n",
    "\n",
    "# Calculate call option value\n",
    "call_option_value = calculate_call_option(S0, K, r, T, sigma, n)\n",
    "print(\"Call Option Value:\", call_option_value)"
   ]
  },
  {
   "cell_type": "code",
   "execution_count": 82,
   "metadata": {},
   "outputs": [
    {
     "name": "stdout",
     "output_type": "stream",
     "text": [
      "The value of the American call option is: 3.37\n"
     ]
    }
   ],
   "source": [
    "S = 36          # Current stock price\n",
    "K = 35          # Strike price\n",
    "T = 3 / 12      # Time to maturity in years (3 months)\n",
    "r = 0.04        # Risk-free rate\n",
    "sigma = 0.35    # Volatility\n",
    "n = 3           # Number of steps\n",
    "\n",
    "option_price = calculate_call_option(S, K, r, T, sigma, n)\n",
    "print(f\"The value of the American call option is: {option_price:.2f}\")"
   ]
  },
  {
   "cell_type": "markdown",
   "metadata": {},
   "source": [
    "## BSM"
   ]
  },
  {
   "cell_type": "code",
   "execution_count": 74,
   "metadata": {},
   "outputs": [
    {
     "name": "stdout",
     "output_type": "stream",
     "text": [
      "Call Option Price: 8.02\n",
      "11.976881462184032\n"
     ]
    }
   ],
   "source": [
    "import math\n",
    "from scipy.stats import norm\n",
    "\n",
    "def bsm_call_price(S, K, r, t, sigma):\n",
    "    \"\"\"\n",
    "    Calculate the Black-Scholes-Merton call option price.\n",
    "\n",
    "    Parameters:\n",
    "    S (float): Current stock price\n",
    "    K (float): Strike price\n",
    "    r (float): Risk-free interest rate (annualized)\n",
    "    t (float): Time to maturity (in years)\n",
    "    sigma (float): Volatility of the stock (annualized)\n",
    "\n",
    "    Returns:\n",
    "    float: Call option price\n",
    "    \"\"\"\n",
    "    # Calculate d1 and d2\n",
    "    d1 = (math.log(S / K) + (r + 0.5 * sigma ** 2) * t) / (sigma * math.sqrt(t))\n",
    "    d2 = d1 - sigma * math.sqrt(t)\n",
    "    \n",
    "    # Calculate the call price\n",
    "    call_price = S * norm.cdf(d1) - K * math.exp(-r * t) * norm.cdf(d2)\n",
    "    return call_price\n",
    "\n",
    "# Example usage\n",
    "S = 100  # Current stock price\n",
    "K = 105  # Strike price\n",
    "r = 0.05  # Risk-free interest rate\n",
    "t = 1     # Time to maturity (1 year)\n",
    "sigma = 0.2  # Volatility (20%)\n",
    "\n",
    "call_price = bsm_call_price(S, K, r, t, sigma)\n",
    "print(f\"Call Option Price: {call_price:.2f}\")\n",
    "print(bsm_call_price(S, K, r, t, sigma+0.1))"
   ]
  },
  {
   "cell_type": "code",
   "execution_count": 86,
   "metadata": {},
   "outputs": [
    {
     "name": "stdout",
     "output_type": "stream",
     "text": [
      "The value of the put option is: $4.408597412034155\n"
     ]
    }
   ],
   "source": [
    "K = 30\n",
    "r = 0.03\n",
    "t = 0.5\n",
    "S = 32\n",
    "d1 = 0.44513\n",
    "d2 = 0.19764\n",
    "call_price = S * norm.cdf(d1) - K * math.exp(-r * t) * norm.cdf(d2)\n",
    "print(f\"The value of the put option is: ${call_price}\")"
   ]
  },
  {
   "cell_type": "code",
   "execution_count": 90,
   "metadata": {},
   "outputs": [
    {
     "name": "stdout",
     "output_type": "stream",
     "text": [
      "The price of the put option is: 1.96\n"
     ]
    }
   ],
   "source": [
    "from math import exp\n",
    "from scipy.stats import norm\n",
    "\n",
    "def calculate_put_option_price(K, r, t, S, d1, d2):\n",
    "    \"\"\"\n",
    "    Calculate the price of a put option using the Black-Scholes-Merton formula.\n",
    "\n",
    "    Parameters:\n",
    "    K (float): Strike price\n",
    "    r (float): Risk-free interest rate\n",
    "    t (float): Time to maturity (in years)\n",
    "    S (float): Current stock price\n",
    "    d1 (float): d1 value\n",
    "    d2 (float): d2 value\n",
    "\n",
    "    Returns:\n",
    "    float: Put option price\n",
    "    \"\"\"\n",
    "    # P = K * exp(-r * t) * N(-d2) - S * N(-d1)\n",
    "    put_price = K * exp(-r * t) * norm.cdf(-d2) - S * norm.cdf(-d1)\n",
    "    return put_price\n",
    "\n",
    "# Given parameters\n",
    "K = 30\n",
    "r = 0.03\n",
    "t = 0.5\n",
    "S = 32\n",
    "d1 = 0.44513\n",
    "d2 = 0.19764\n",
    "\n",
    "# Calculate put option price\n",
    "put_price = calculate_put_option_price(K, r, t, S, d1, d2)\n",
    "print(f\"The price of the put option is: {put_price:.2f}\")"
   ]
  },
  {
   "cell_type": "code",
   "execution_count": 91,
   "metadata": {},
   "outputs": [
    {
     "name": "stdout",
     "output_type": "stream",
     "text": [
      "The expected payoff of the put option (conditional on S_T < K) is: 2.31\n"
     ]
    }
   ],
   "source": [
    "from math import exp\n",
    "from scipy.stats import norm\n",
    "\n",
    "def expected_payoff_put_in_the_money(K, r, t, S, d1, d2):\n",
    "    \"\"\"\n",
    "    Calculate the expected payoff of a put option conditional on it expiring in the money (S_T < K).\n",
    "\n",
    "    Parameters:\n",
    "    K (float): Strike price\n",
    "    r (float): Risk-free interest rate\n",
    "    t (float): Time to maturity (in years)\n",
    "    S (float): Current stock price\n",
    "    d1 (float): d1 value\n",
    "    d2 (float): d2 value\n",
    "\n",
    "    Returns:\n",
    "    float: Expected payoff of the put option (conditional on S_T < K)\n",
    "    \"\"\"\n",
    "    # Expected payoff = K * N(-d2) - S * exp(-r * t) * N(-d1)\n",
    "    expected_payoff = K * norm.cdf(-d2) - S * exp(-r * t) * norm.cdf(-d1)\n",
    "    return expected_payoff\n",
    "\n",
    "# Given parameters\n",
    "K = 30\n",
    "r = 0.03\n",
    "t = 0.5\n",
    "S = 32\n",
    "d1 = 0.44513\n",
    "d2 = 0.19764\n",
    "\n",
    "# Calculate expected payoff\n",
    "expected_payoff = expected_payoff_put_in_the_money(K, r, t, S, d1, d2)\n",
    "print(f\"The expected payoff of the put option (conditional on S_T < K) is: {expected_payoff:.2f}\")"
   ]
  }
 ],
 "metadata": {
  "kernelspec": {
   "display_name": "fiancial_calculator",
   "language": "python",
   "name": "python3"
  },
  "language_info": {
   "codemirror_mode": {
    "name": "ipython",
    "version": 3
   },
   "file_extension": ".py",
   "mimetype": "text/x-python",
   "name": "python",
   "nbconvert_exporter": "python",
   "pygments_lexer": "ipython3",
   "version": "3.10.15"
  }
 },
 "nbformat": 4,
 "nbformat_minor": 2
}
