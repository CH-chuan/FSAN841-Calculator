{
 "cells": [
  {
   "cell_type": "markdown",
   "metadata": {},
   "source": [
    "# Bond Valuation"
   ]
  },
  {
   "cell_type": "code",
   "execution_count": 12,
   "metadata": {},
   "outputs": [
    {
     "name": "stdout",
     "output_type": "stream",
     "text": [
      "The bond price is: $774.844\n"
     ]
    }
   ],
   "source": [
    "def bond_value(face_value, coupon_rate, years_to_maturity, ytm, frequency='annual'):\n",
    "    \"\"\"\n",
    "    Calculate the present value of a bond.\n",
    "\n",
    "    Parameters:\n",
    "    face_value (float): The face value of the bond.\n",
    "    coupon_rate (float): The annual coupon interest rate (as a decimal, e.g., 0.05 for 5%).\n",
    "    years_to_maturity (int): Number of years until the bond matures.\n",
    "    ytm (float): Yield to maturity (as a decimal, e.g., 0.04 for 4%).\n",
    "    frequency (str): 'annual' for annual coupon payments or 'semi-annual' for semi-annual payments.\n",
    "\n",
    "    Returns:\n",
    "    float: Present value of the bond.\n",
    "    \"\"\"\n",
    "    if frequency not in ['annual', 'semi-annual']:\n",
    "        raise ValueError(\"Frequency must be 'annual' or 'semi-annual'.\")\n",
    "\n",
    "    # Determine number of periods and rate per period\n",
    "    if frequency == 'annual':\n",
    "        periods_per_year = 1\n",
    "    else:\n",
    "        periods_per_year = 2\n",
    "\n",
    "    total_periods = years_to_maturity * periods_per_year\n",
    "    rate_per_period = ytm / periods_per_year\n",
    "    coupon_payment = (coupon_rate * face_value) / periods_per_year\n",
    "\n",
    "    # Calculate present value of the coupon payments\n",
    "    coupon_pv = sum(coupon_payment / (1 + rate_per_period) ** t for t in range(1, total_periods + 1))\n",
    "\n",
    "    # Calculate present value of the face value (lump sum at maturity)\n",
    "    face_value_pv = face_value / (1 + rate_per_period) ** total_periods\n",
    "\n",
    "    # Total present value of the bond\n",
    "    bond_price = coupon_pv + face_value_pv\n",
    "    return bond_price\n",
    "\n",
    "# Example usage\n",
    "face_value = 1000  # Face value of the bond\n",
    "coupon_rate = 0.12  # Coupon interest rate (5%)\n",
    "years_to_maturity = 15  # Years to maturity\n",
    "ytm = 0.16  # Yield to maturity (4%)\n",
    "frequency = 'semi-annual'  # Payment frequency: 'annual' or 'semi-annual'\n",
    "\n",
    "bond_price = bond_value(face_value, coupon_rate, years_to_maturity, ytm, frequency)\n",
    "print(f\"The bond price is: ${bond_price:.3f}\")"
   ]
  },
  {
   "cell_type": "code",
   "execution_count": null,
   "metadata": {},
   "outputs": [
    {
     "name": "stdout",
     "output_type": "stream",
     "text": [
      "The yield to maturity is: 15.9999%\n"
     ]
    }
   ],
   "source": [
    "from scipy.optimize import newton\n",
    "\n",
    "def calculate_ytm(bond_price, face_value, coupon_rate, years_to_maturity, frequency='annual', guess=0.05):\n",
    "    \"\"\"\n",
    "    Calculate the yield to maturity of a bond.\n",
    "\n",
    "    Parameters:\n",
    "    bond_price (float): The current price of the bond.\n",
    "    face_value (float): The face value of the bond.\n",
    "    coupon_rate (float): The annual coupon interest rate (as a decimal).\n",
    "    years_to_maturity (int): Number of years until the bond matures.\n",
    "    frequency (str): 'annual' for annual coupon payments or 'semi-annual' for semi-annual payments.\n",
    "    guess (float): Initial guess for YTM (as a decimal).\n",
    "\n",
    "    Returns:\n",
    "    float: Yield to maturity (as a decimal).\n",
    "    \"\"\"\n",
    "    func = lambda ytm: bond_price - bond_value(face_value, coupon_rate, years_to_maturity, ytm, frequency)\n",
    "    ytm = newton(func, guess)\n",
    "    return ytm\n",
    "\n",
    "# Example usage\n",
    "bond_price = 774.85  # Current bond price\n",
    "face_value = 1000  # Face value of the bond\n",
    "coupon_rate = 0.12  # Coupon interest rate (5%)\n",
    "years_to_maturity = 15  # Years to maturity\n",
    "frequency = 'semi-annual'  # Payment frequency: 'annual' or 'semi-annual'\n",
    "\n",
    "ytm = calculate_ytm(bond_price, face_value, coupon_rate, years_to_maturity, frequency)\n",
    "print(f\"The ytm is: {ytm:.4%}\")"
   ]
  },
  {
   "cell_type": "code",
   "execution_count": null,
   "metadata": {},
   "outputs": [
    {
     "name": "stdout",
     "output_type": "stream",
     "text": [
      "The realized yield is: 13.1698%\n"
     ]
    }
   ],
   "source": [
    "def calculate_realized_yield(\n",
    "        face_value, coupon_rate, current_ytm, years_to_maturity, \n",
    "        holding_period, future_ytm, frequency='annual'):\n",
    "    \"\"\"\n",
    "    Calculate the realized yield of holding a bond for a given period.\n",
    "\n",
    "    Parameters:\n",
    "    face_value (float): The face value of the bond.\n",
    "    coupon_rate (float): The annual coupon interest rate (as a decimal).\n",
    "    current_ytm (float): Initial yield to maturity (as a decimal).\n",
    "    years_to_maturity (int): Original years to maturity when bond was purchased.\n",
    "    holding_period (int): Number of years the bond is held.\n",
    "    future_ytm (float): Yield to maturity when the bond is sold (as a decimal).\n",
    "    frequency (str): 'annual' for annual coupon payments or 'semi-annual' for semi-annual payments.\n",
    "\n",
    "    Returns:\n",
    "    float: Realized yield (as a decimal).\n",
    "    \"\"\"\n",
    "    if frequency not in ['annual', 'semi-annual']:\n",
    "        raise ValueError(\"Frequency must be 'annual' or 'semi-annual'.\")\n",
    "\n",
    "    # Calculate the initial bond price based on the current YTM\n",
    "    initial_bond_price = bond_value(face_value, coupon_rate, years_to_maturity, current_ytm, frequency)\n",
    "\n",
    "    # Calculate the future bond price when sold after the holding period\n",
    "    remaining_years_to_maturity = years_to_maturity - holding_period\n",
    "    future_bond_price_at_sale = bond_value(face_value, coupon_rate, remaining_years_to_maturity, future_ytm, frequency)\n",
    "\n",
    "    # Calculate the total cash flows from holding the bond\n",
    "    if frequency == 'annual':\n",
    "        periods_per_year = 1\n",
    "    else:\n",
    "        periods_per_year = 2\n",
    "    holding_periods = holding_period * periods_per_year\n",
    "    counpon_payment = (coupon_rate * face_value) / periods_per_year\n",
    "    func = lambda r_ytm: initial_bond_price - sum(counpon_payment / (1 + r_ytm / periods_per_year) ** t for t in range(1, holding_periods + 1)) - future_bond_price_at_sale / (1 + r_ytm / periods_per_year) ** holding_periods\n",
    "    realized_yield = newton(func, current_ytm)\n",
    "\n",
    "    return realized_yield\n",
    "\n",
    "# Example usage\n",
    "face_value = 1000  # Face value of the bond\n",
    "coupon_rate = 0.05  # Coupon interest rate (5%)\n",
    "current_ytm = 0.08  # Current yield to maturity (4%)\n",
    "years_to_maturity = 20  # Years to maturity\n",
    "holding_period = 2  # Number of years holding the bond\n",
    "future_ytm = 0.07  # Future yield to maturity when selling the bond (4.5%)\n",
    "frequency = 'semi-annual'  # Payment frequency: 'annual' or 'semi-annual'\n",
    "\n",
    "realized_yield = calculate_realized_yield(\n",
    "    face_value, coupon_rate, current_ytm, years_to_maturity, \n",
    "    holding_period, future_ytm, frequency)\n",
    "print(f\"The realized yield is: {realized_yield:.4%}\")"
   ]
  },
  {
   "cell_type": "markdown",
   "metadata": {},
   "source": [
    "# Stock dividend discount model"
   ]
  },
  {
   "cell_type": "code",
   "execution_count": null,
   "metadata": {},
   "outputs": [
    {
     "name": "stdout",
     "output_type": "stream",
     "text": [
      "The stock price is: $5.64\n"
     ]
    }
   ],
   "source": [
    "def pv_stock_constant_growth(\n",
    "        dividend, growth_rate, discount_rate, \n",
    "        pay_now = False,\n",
    "        payment_frequency='annual'\n",
    "        ):\n",
    "    \"\"\"\n",
    "    Calculate the present value of a stock with constant growth.\n",
    "\n",
    "    Parameters:\n",
    "    dividend (float): The dividend payment.\n",
    "    growth_rate (float): The constant growth rate. YEARLY!!!\n",
    "    discount_rate (float): The discount rate (required rate of return). APR!!!\n",
    "    pay_now (bool): Whether the dividend is paid now or at the end of the period.\n",
    "    payment_frequency (str): 'annual', 'semi-annual', or 'quarter'.\n",
    "\n",
    "    Returns:\n",
    "    float: Present value of the stock.\n",
    "    \"\"\"\n",
    "    if payment_frequency not in ['annual', 'semi-annual', 'quarter']:\n",
    "        raise ValueError(\"Payment frequency must be 'annual', 'semi-annual', or 'quarter'.\")\n",
    "    if payment_frequency == 'annual':\n",
    "        periods_per_year = 1\n",
    "    elif payment_frequency == 'semi-annual':\n",
    "        periods_per_year = 2\n",
    "    else:\n",
    "        periods_per_year = 4\n",
    "    growth_rate /= periods_per_year\n",
    "    discount_rate /= periods_per_year\n",
    "    if pay_now:\n",
    "        stock_price = dividend * (1 + growth_rate) / (discount_rate - growth_rate)\n",
    "    else:\n",
    "        stock_price = dividend / (discount_rate - growth_rate)\n",
    "    return stock_price\n",
    "\n",
    "# Example usage\n",
    "dividend = 0.22  # Dividend payment\n",
    "growth_rate = 0.001 * 4  # Growth rate: should be yearly!!!!!\n",
    "discount_rate = 0.16  # Discount rate\n",
    "pay_now = False  # Dividend is paid now\n",
    "payment_frequency = 'quarter'  # Payment frequency: 'annual', 'semi-annual', or 'quarter'\n",
    "stock_price = pv_stock_constant_growth(dividend, growth_rate, discount_rate, pay_now, payment_frequency)\n",
    "print(f\"The stock price is: ${stock_price:.2f}\")\n",
    "\n"
   ]
  },
  {
   "cell_type": "code",
   "execution_count": 58,
   "metadata": {},
   "outputs": [
    {
     "name": "stdout",
     "output_type": "stream",
     "text": [
      "The stock price is: $8.67\n",
      "The stock price is: $13.77\n",
      "The stock price is: $14.57\n"
     ]
    }
   ],
   "source": [
    "def pv_stock_varying_growth_rate(\n",
    "        last_dividend, discount_rate, growth_rates, \n",
    "        year_start_infinite_growth\n",
    "        ):\n",
    "    \"\"\"\n",
    "    Calculate the present value of a stock with varying growth rates.\n",
    "\n",
    "    Parameters:\n",
    "    last_dividend (float): The dividend at time 0.\n",
    "    discount_rate (float): The discount rate for future cash flows.\n",
    "    growth_rates (list): The growth rates of dividends for each year.\n",
    "    year_start_infinite_growth (int): The year when dividends grow at a constant rate indefinitely.\n",
    "    \"\"\"\n",
    "    pv = 0\n",
    "    # Calculate the present value of dividends until the year of infinite growth\n",
    "    for t, g in enumerate(growth_rates):\n",
    "        t += 1 # since count from 0, need to add 1 manually\n",
    "        last_dividend *= 1 + g\n",
    "        if t < year_start_infinite_growth:\n",
    "            pv += last_dividend / (1 + discount_rate) ** t\n",
    "            #print(f\"Period {t}: Dividend = ${last_dividend:.3f}\", f\"(growth {g})\", f\"PV = ${pv:.3f}\")\n",
    "        else:\n",
    "            #print(f\"Period {t}: Dividend = ${last_dividend:.3f} (infinite growth {g})\")\n",
    "            # Calculate the present value of dividends with infinite growth\n",
    "            pv += last_dividend / (discount_rate - g) / (1 + discount_rate) ** (t-1)\n",
    "    return pv\n",
    "\n",
    "# Example usage\n",
    "# Normal use case\n",
    "last_dividend = 1\n",
    "discount_rate = 0.2\n",
    "growth_rates = [0.2, 0.15, 0.05]\n",
    "year_start_infinite_growth = 3\n",
    "stock_price = pv_stock_varying_growth_rate(last_dividend, discount_rate, growth_rates, year_start_infinite_growth)\n",
    "print(f\"The stock price is: ${stock_price:.2f}\")\n",
    "\n",
    "# Below is an example if we use quatrerly growth rates\n",
    "growth_rates = [0.032/4] * 5 * 4 + [-0.02/4] \n",
    "last_dividend = 0.52 # \n",
    "discount_rate = 0.16 / 4\n",
    "year_start_infinite_growth = 5 * 4 + 1\n",
    "stock_price = pv_stock_varying_growth_rate(last_dividend, discount_rate, growth_rates, year_start_infinite_growth)\n",
    "print(f\"The stock price is: ${stock_price:.2f}\")\n",
    "\n",
    "growth_rates = [0.032/4] * 5 * 4 + [0] \n",
    "last_dividend = 0.52 # \n",
    "discount_rate = 0.16 / 4\n",
    "year_start_infinite_growth = 5 * 4 + 1\n",
    "stock_price = pv_stock_varying_growth_rate(last_dividend, discount_rate, growth_rates, year_start_infinite_growth)\n",
    "print(f\"The stock price is: ${stock_price:.2f}\")"
   ]
  },
  {
   "cell_type": "code",
   "execution_count": 46,
   "metadata": {},
   "outputs": [
    {
     "data": {
      "text/plain": [
       "[0.008, 0.008, 0.008, 0.008, 0.008, -0.02]"
      ]
     },
     "execution_count": 46,
     "metadata": {},
     "output_type": "execute_result"
    }
   ],
   "source": [
    "[0.032/4] * 5 + [-0.02]"
   ]
  },
  {
   "cell_type": "markdown",
   "metadata": {},
   "source": [
    "# Portfolio Theory"
   ]
  },
  {
   "cell_type": "markdown",
   "metadata": {},
   "source": [
    "capital allocation line: allocation of a portfolio and risk-free assets,\n",
    "$$\n",
    "    E(R_p) = R_f + \\frac{E(R_i)-R_f}{\\sigma_i}\\sigma_p\n",
    "$$\n",
    "\n",
    "Where $\\sigma_p$ is decided by the market. So what is important is $\\frac{E(R_i)-R_f}{\\sigma_i}$, which is the sharp ratio."
   ]
  },
  {
   "cell_type": "code",
   "execution_count": 67,
   "metadata": {},
   "outputs": [
    {
     "name": "stdout",
     "output_type": "stream",
     "text": [
      "The optimal weight allocation is: Asset 1: 0.8403, Asset 2: 0.1597\n",
      "expected return of the portfolio:  0.051927994466421275\n",
      "standard deviation of the portfolio:  0.039909501477286426\n",
      "Sharpe ratio:  0.8000098544100422\n"
     ]
    }
   ],
   "source": [
    "# calcualte optimal weight allocation for a two-asset portfolio\n",
    "def optimal_weight_allocation(r1, r2, sigma1, sigma2, rho, rf):\n",
    "    \"\"\"\n",
    "    Calculate the optimal weight allocation for a two-asset portfolio.\n",
    "\n",
    "    Parameters:\n",
    "    r1 (float): Expected return of asset 1.\n",
    "    r2 (float): Expected return of asset 2.\n",
    "    sigma1 (float): Standard deviation of asset 1.\n",
    "    sigma2 (float): Standard deviation of asset 2.\n",
    "    rho (float): Correlation coefficient between asset 1 and asset 2.\n",
    "\n",
    "    Returns:\n",
    "    tuple: Optimal weight allocation (weight of asset 1, weight of asset 2).\n",
    "    \"\"\"\n",
    "    rp1 = r1 - rf\n",
    "    rp2 = r2 - rf\n",
    "    sigma12 = sigma1 * sigma2 * rho\n",
    "    w1 = ( sigma2**2 * rp1 - sigma12 * rp2 ) / ( sigma1**2 * rp2 + sigma2**2 * rp1 - sigma12 * (rp1 + rp2) )\n",
    "    w2 = 1 - w1\n",
    "    return w1, w2\n",
    "\n",
    "# use annualized return and standard deviation\n",
    "r1 = 0.043381\n",
    "std1 = 0.036666\n",
    "\n",
    "r2 = 0.096887\n",
    "std2 = 0.151002\n",
    "rho = 0.04155\n",
    "rf = 0.02\n",
    "w1, w2 = optimal_weight_allocation(r1, r2, std1, std2, rho, rf)\n",
    "print(f\"The optimal weight allocation is: Asset 1: {w1:.4f}, Asset 2: {w2:.4f}\")\n",
    "# so that the portfolio has the highest Sharpe ratio\n",
    "rp = w1 * r1 + w2 * r2\n",
    "stdp = ((w1 * std1)**2 + (w2 * std2)**2 + 2 * w1 * w2 * std1 * std2 * rho)**0.5\n",
    "sharpe_ratio = (rp - rf) / stdp\n",
    "print(\"expected return of the portfolio: \", rp)\n",
    "print(\"standard deviation of the portfolio: \", stdp)\n",
    "print(\"Sharpe ratio: \", sharpe_ratio)"
   ]
  },
  {
   "cell_type": "code",
   "execution_count": 69,
   "metadata": {},
   "outputs": [
    {
     "name": "stdout",
     "output_type": "stream",
     "text": [
      "The optimal weight allocation is: rf: 0.3736, rp: 0.6264\n",
      "The final weight allocation is: rf: 0.3736, Asset 1: 0.5263, Asset 2: 0.1001\n"
     ]
    }
   ],
   "source": [
    "# given return needed, calculate the optimal weight allocation between rf and rp\n",
    "return_needed = 0.04\n",
    "w_rf = (return_needed - rp)/(rf - rp)\n",
    "w_rp = 1 - w_rf\n",
    "print(f\"The optimal weight allocation is: rf: {w_rf:.4f}, rp: {w_rp:.4f}\")\n",
    "w1_final = w1 * w_rp\n",
    "w2_final = w2 * w_rp\n",
    "print(f\"The final weight allocation is: rf: {w_rf:.4f}, Asset 1: {w1_final:.4f}, Asset 2: {w2_final:.4f}\")"
   ]
  },
  {
   "cell_type": "markdown",
   "metadata": {},
   "source": [
    "# CAPM"
   ]
  },
  {
   "cell_type": "markdown",
   "metadata": {},
   "source": [
    "Assumptions about CAMP:\n",
    "\n",
    "Individual:\n",
    "1. investors are rational and risk-averse mean-variance optimizer\n",
    "2. Investors have single-period common planning horizon\n",
    "3. investors have homogeneous expections about expected join distribution of returns (no information asymmetry)\n",
    "\n",
    "Market:\n",
    "1. All assets are publicly held and trade on public exchanges\n",
    "2. investors and shor sell\n",
    "3. no tax and transaction costs"
   ]
  },
  {
   "cell_type": "markdown",
   "metadata": {},
   "source": [
    "capital market line: allocation of the market portfolio and risk-free assets,\n",
    "$$\n",
    "    E(R_s) = R_f + \\frac{E(R_M)-R_f}{\\sigma_M}\\sigma_e\n",
    "$$\n"
   ]
  },
  {
   "cell_type": "markdown",
   "metadata": {},
   "source": [
    "CAPM: Capital Asset Pricing Model, it depicts a security market line by modifying $\\beta$, where $\\beta =\\frac{\\sigma_{i,M}}{\\sigma_M^2} $\n",
    "\n",
    "$$\n",
    "    E(r_i) = r_f + \\frac{\\sigma_{i,M}}{\\sigma_M^2}(E(r_M) - r_f)\n",
    "$$\n"
   ]
  },
  {
   "cell_type": "markdown",
   "metadata": {},
   "source": [
    "Since CAPM is calculated based on single-period common planning horizon, building on the ex-ante beta. However, we cannot know future information. We need to estimate it via historical proxies.\n",
    "\n",
    "$$\n",
    "(R(r_i)-r_f )_t = \\alpha_i + \\beta_i ( E(r_M) - r_f )_t + \\epsilon_{i,t}\n",
    "$$\n",
    "\n",
    "- $ \\alpha $ = Intercept term representing the risk-adjusted return\n",
    "- $ \\beta $ = Beta, a measure of the asset's systematic risk relative to the market (excess return to variation in market)\n",
    "- $ r_M $ = Return on the market portfolio\n",
    "- $ \\epsilon $ = Error term capturing firm-specific risks, with $ E(\\epsilon) = 0 $\n",
    "\n",
    "Ideally, in equalibrium, $\\alpha$ should be 0, but it is NOT!\n",
    "\n",
    "1. if CAPM is false, a positive alpha represents a risk-premium being earned beyond the market premium factor.\n",
    "2. if CAPM is true, the alpha simply capturing the excess returns due to systematic risks that the proxy cannot capture.\n"
   ]
  },
  {
   "cell_type": "code",
   "execution_count": null,
   "metadata": {},
   "outputs": [],
   "source": []
  }
 ],
 "metadata": {
  "kernelspec": {
   "display_name": "eda",
   "language": "python",
   "name": "python3"
  },
  "language_info": {
   "codemirror_mode": {
    "name": "ipython",
    "version": 3
   },
   "file_extension": ".py",
   "mimetype": "text/x-python",
   "name": "python",
   "nbconvert_exporter": "python",
   "pygments_lexer": "ipython3",
   "version": "3.10.16"
  }
 },
 "nbformat": 4,
 "nbformat_minor": 2
}
