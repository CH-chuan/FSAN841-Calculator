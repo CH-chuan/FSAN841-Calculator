{
 "cells": [
  {
   "cell_type": "code",
   "execution_count": 3,
   "id": "af8ad2f8",
   "metadata": {},
   "outputs": [],
   "source": [
    "from math import log\n",
    "import numpy as np"
   ]
  },
  {
   "cell_type": "code",
   "execution_count": 4,
   "id": "e71de786",
   "metadata": {},
   "outputs": [],
   "source": [
    "def cal_EAR_from_APR(apr, n):\n",
    "    \"\"\"\n",
    "    Calculate the effective annual rate (EAR) from the annual percentage rate (APR) and the number of compounding periods per year (n).\n",
    "    \"\"\"\n",
    "    return (1 + apr/n) ** n - 1\n",
    "\n",
    "def cal_APR_from_EAR(ear, n):\n",
    "    \"\"\"\n",
    "    Calculate the annual percentage rate (APR) from the effective annual rate (EAR) and the number of compounding periods per year (n).\n",
    "    \"\"\"\n",
    "    return ((1 + ear) ** (1/n) - 1) * 12\n"
   ]
  },
  {
   "cell_type": "code",
   "execution_count": 5,
   "id": "f00a6b9f",
   "metadata": {},
   "outputs": [
    {
     "data": {
      "text/plain": [
       "2068605.1602565811"
      ]
     },
     "execution_count": 5,
     "metadata": {},
     "output_type": "execute_result"
    }
   ],
   "source": [
    "def cal_PV_from_FV(FV, r, n):\n",
    "    \"\"\"\n",
    "    FV: future value\n",
    "    r: period interest rate\n",
    "    n: number of periods\n",
    "    \"\"\"\n",
    "    return FV / (1 + r) ** n\n",
    "\n",
    "# example\n",
    "FV = 2155000\n",
    "r = 0.0492 / 12 # 4.92% apr\n",
    "n = 10 # 10 months\n",
    "cal_PV_from_FV(FV, r, n)"
   ]
  },
  {
   "cell_type": "code",
   "execution_count": 6,
   "id": "9432371c",
   "metadata": {},
   "outputs": [
    {
     "data": {
      "text/plain": [
       "9.334038987542009"
      ]
     },
     "execution_count": 6,
     "metadata": {},
     "output_type": "execute_result"
    }
   ],
   "source": [
    "def cal_period_needed(FV, r, PV):\n",
    "    \"\"\"\n",
    "    FV: future value\n",
    "    r: period interest rate\n",
    "    PV: present value\n",
    "    \"\"\"\n",
    "    return log(FV/PV) / log(1+r)\n",
    "\n",
    "# example\n",
    "PV = 150725\n",
    "ear = 0.084\n",
    "FV = 320000\n",
    "\n",
    "cal_period_needed(FV, ear, PV)\n"
   ]
  },
  {
   "cell_type": "code",
   "execution_count": 7,
   "id": "2624592d",
   "metadata": {},
   "outputs": [
    {
     "data": {
      "text/plain": [
       "431784.99945455766"
      ]
     },
     "execution_count": 7,
     "metadata": {},
     "output_type": "execute_result"
    }
   ],
   "source": [
    "def cal_FV_from_PV(PV, r, n):\n",
    "    \"\"\"\n",
    "    PV: present value\n",
    "    r: period interest rate\n",
    "    n: number of periods\n",
    "    \"\"\"\n",
    "    return PV * (1 + r) ** n\n",
    "\n",
    "# example\n",
    "PV = 200000\n",
    "apr = 0.08\n",
    "n = 10\n",
    "cal_FV_from_PV(PV, apr, n)"
   ]
  },
  {
   "cell_type": "code",
   "execution_count": 8,
   "id": "628130af",
   "metadata": {},
   "outputs": [
    {
     "data": {
      "text/plain": [
       "0.08008229825529067"
      ]
     },
     "execution_count": 8,
     "metadata": {},
     "output_type": "execute_result"
    }
   ],
   "source": [
    "def cal_r_from_FV_PV(FV, PV, n):\n",
    "    \"\"\"\n",
    "    FV: future value\n",
    "    PV: present value\n",
    "    n: number of periods\n",
    "    \"\"\"\n",
    "    return (FV/PV) ** (1/n) - 1\n",
    "\n",
    "# example\n",
    "PV = 10000\n",
    "n = 3\n",
    "FV = 12600\n",
    "cal_r_from_FV_PV(FV, PV, n)"
   ]
  },
  {
   "cell_type": "code",
   "execution_count": 9,
   "id": "b32339dc",
   "metadata": {},
   "outputs": [
    {
     "data": {
      "text/plain": [
       "482.413093630601"
      ]
     },
     "execution_count": 9,
     "metadata": {},
     "output_type": "execute_result"
    }
   ],
   "source": [
    "def cal_monthly_payment(PV, r, n):\n",
    "    \"\"\"\n",
    "    PV: present value\n",
    "    r: period interest rate\n",
    "    n: number of periods\n",
    "    \"\"\"\n",
    "    return PV * r * (1 + r) ** n / ((1 + r) ** n - 1)\n",
    "\n",
    "# example\n",
    "PV = 16000\n",
    "n = 36\n",
    "r = 0.054/12\n",
    "cal_monthly_payment(PV, r, n)"
   ]
  },
  {
   "cell_type": "code",
   "execution_count": 1,
   "id": "393749e6",
   "metadata": {},
   "outputs": [
    {
     "data": {
      "text/plain": [
       "1264815.9161838996"
      ]
     },
     "execution_count": 1,
     "metadata": {},
     "output_type": "execute_result"
    }
   ],
   "source": [
    "def cal_FV_with_deposit(term, deposit, r):\n",
    "    \"\"\"\n",
    "    term: number of periods\n",
    "    deposit: deposit amount each period\n",
    "    r: period interest rate\n",
    "    \"\"\"\n",
    "    return deposit * ((1 + r) ** term - 1) / r\n",
    "\n",
    "# example\n",
    "deposit = 200\n",
    "terms = 40*12\n",
    "r = 0.1/12\n",
    "cal_FV_with_deposit(terms, deposit, r)"
   ]
  },
  {
   "cell_type": "markdown",
   "id": "cc9fc6c1",
   "metadata": {},
   "source": [
    "Cash Flows to be considered:\n",
    "\n",
    "Revenue + financing (selling bond or stock) = Expense for Operating + debet service + investment in new assets + Divident\n",
    "\n",
    "Operating Cash Flow = Revenue - Expense for Operating"
   ]
  },
  {
   "cell_type": "code",
   "execution_count": 11,
   "id": "2d267e8a",
   "metadata": {},
   "outputs": [
    {
     "data": {
      "text/plain": [
       "535000.0"
      ]
     },
     "execution_count": 11,
     "metadata": {},
     "output_type": "execute_result"
    }
   ],
   "source": [
    "def cal_OCF(sale, cost, tax_rate, depreciation):\n",
    "    \"\"\"\n",
    "    sale: sale in the period\n",
    "    cost: cost in the period\n",
    "    tax_rate: tax rate\n",
    "    depreciation: depreciation in the period\n",
    "    \"\"\"\n",
    "    return (sale - cost) * (1 - tax_rate) + depreciation * tax_rate\n",
    "\n",
    "sale = 2.1 * 1e6\n",
    "cost = 1.55 * 1e6\n",
    "tax_rate = 0.3\n",
    "depreciation = 3 * 1e6 / 6\n",
    "cal_OCF(sale, cost, tax_rate, depreciation)"
   ]
  },
  {
   "cell_type": "code",
   "execution_count": 12,
   "id": "c44d46a6",
   "metadata": {},
   "outputs": [
    {
     "data": {
      "text/plain": [
       "0.04277497803511139"
      ]
     },
     "execution_count": 12,
     "metadata": {},
     "output_type": "execute_result"
    }
   ],
   "source": [
    "def cal_IRR(initial_investment, cash_flows, n):\n",
    "    \"\"\"\n",
    "    initial_investment: initial investment\n",
    "    cash_flows: list of cash flows in each period\n",
    "    n: number of periods\n",
    "    \"\"\"\n",
    "    irr = 0.1  # Initial guess for IRR\n",
    "    epsilon = 1e-6  # Convergence tolerance\n",
    "    max_iterations = 1000  # Maximum number of iterations\n",
    "\n",
    "    for _ in range(max_iterations):\n",
    "        npv = -initial_investment\n",
    "        npv_derivative = 0\n",
    "        for t in range(1, n + 1):\n",
    "            npv += cash_flows[t-1] / (1 + irr) ** t\n",
    "            npv_derivative -= t * cash_flows[t-1] / (1 + irr) ** (t + 1)\n",
    "\n",
    "        if abs(npv) < epsilon:\n",
    "            return irr\n",
    "\n",
    "        irr -= npv / npv_derivative\n",
    "\n",
    "    raise ValueError(\"IRR calculation did not converge\")\n",
    "\n",
    "initial_investment = 10 * 1e6\n",
    "n = 10\n",
    "cash_flows = [1.25 * 1e6] * n  # Create a list with n same cash flows\n",
    "cal_IRR(initial_investment, cash_flows, n)"
   ]
  },
  {
   "cell_type": "code",
   "execution_count": null,
   "id": "a9e34851",
   "metadata": {},
   "outputs": [
    {
     "data": {
      "text/plain": [
       "1000000.0"
      ]
     },
     "execution_count": 13,
     "metadata": {},
     "output_type": "execute_result"
    }
   ],
   "source": [
    "def cal_investment_NPV_IRR(investment, life, salvage, sales, cost, r, tax, depreciation):\n",
    "    \"\"\"\n",
    "    investment: initial investment\n",
    "    life: life of the project\n",
    "    salvage: salvage value\n",
    "    sales: sales revenue\n",
    "    cost: cost\n",
    "    r: required rate of return\n",
    "    tax: tax rate\n",
    "    depreciation: depreciation amount in each year\n",
    "    \"\"\"\n",
    "    ocf = cal_OCF(sales, cost, tax, depreciation)\n",
    "    pv_ocf = ocf * (1 - (1 + r) ** -life) / r\n",
    "    book_value = investment - depreciation * life\n",
    "    ATSV = salvage - (tax * (salvage - book_value))\n",
    "    pv_ATSV = ATSV / (1 + r) ** life\n",
    "    NPV = -investment + pv_ocf + pv_ATSV\n",
    "    list_ocf = [ocf] * life \n",
    "    IRR = cal_IRR(investment, list_ocf, life)\n",
    "    return NPV, IRR\n",
    "\n",
    "investment = 12000000\n",
    "n = 12\n",
    "depreciation = investment / n\n",
    "salvage = 1200000\n",
    "sale = 4150000\n",
    "cost = 1300000\n",
    "r = 0.13\n",
    "tax = 0.28\n",
    "cal_investment_NPV_IRR(investment, n, salvage, sale, cost, r, tax, depreciation)"
   ]
  },
  {
   "cell_type": "markdown",
   "id": "b867100a",
   "metadata": {},
   "source": [
    "Now start the most difficulty part of bonds, the annuity: a stream of constant cash flows (C) with a finite life (t).\n",
    "\n",
    "While in constrast, perpetuity is a constant cash flow stream with infinite life.\n",
    "\n",
    "So that basic formula: $PV_{ann} = PV_{reg perp} - PV_{delay perp} = \\frac{C}{r}(1-\\frac{1}{(1+r)^t})$"
   ]
  },
  {
   "cell_type": "code",
   "execution_count": null,
   "id": "82bc2f87",
   "metadata": {},
   "outputs": [],
   "source": []
  },
  {
   "cell_type": "code",
   "execution_count": 14,
   "id": "44786d63",
   "metadata": {},
   "outputs": [
    {
     "data": {
      "text/plain": [
       "975.6180209447112"
      ]
     },
     "execution_count": 14,
     "metadata": {},
     "output_type": "execute_result"
    }
   ],
   "source": [
    "def plan_retirement_period_savings(initial_savings, r, n, goal):\n",
    "    \"\"\"\n",
    "    initial_savings: initial savings\n",
    "    r: effective interest rate for each period\n",
    "    n: number of periods\n",
    "    goal: goal amount\n",
    "    \"\"\"\n",
    "    FV_initial = initial_savings * (1 + r) ** n\n",
    "    FV_needed = goal - FV_initial\n",
    "    period_savings = FV_needed * r / ((1 + r) ** n - 1)\n",
    "    return period_savings\n",
    "\n",
    "initial_savings = 180000\n",
    "EAR = 0.0925\n",
    "n = 30 * 12\n",
    "goal = 4.3 * 1e6\n",
    "\n",
    "plan_retirement_period_savings(initial_savings, cal_APR_from_EAR(EAR, 12) / 12, n, goal)"
   ]
  },
  {
   "cell_type": "code",
   "execution_count": 15,
   "id": "c1357e13",
   "metadata": {},
   "outputs": [
    {
     "data": {
      "text/plain": [
       "0.052500162056048794"
      ]
     },
     "execution_count": 15,
     "metadata": {},
     "output_type": "execute_result"
    }
   ],
   "source": [
    "def cal_r_from_period_payment(period_payment, n, PV, down_payment=0):\n",
    "    \"\"\"\n",
    "    Calculates the periodic effective interest rate using the Bisection Method.\n",
    "\n",
    "    This function does not use any external packages like numpy. It manually\n",
    "    implements a numerical solver to find the interest rate.\n",
    "\n",
    "    Args:\n",
    "        period_payment (float): The amount of the payment made each period.\n",
    "        n (int): The total number of payment periods.\n",
    "        PV (float): The present value or the initial principal of the loan/asset.\n",
    "        down_payment (float, optional): Any down payment made at the beginning. \n",
    "                                        Defaults to 0.\n",
    "\n",
    "    Returns:\n",
    "        float: The periodic interest rate, or None if a solution cannot be found.\n",
    "    \"\"\"\n",
    "    loan_amount = PV - down_payment\n",
    "\n",
    "    # --- Basic Sanity Checks ---\n",
    "    if n <= 0:\n",
    "        return None # Number of periods must be positive\n",
    "    # If total payments are less than the loan, it implies a negative interest rate,\n",
    "    # which this simple solver isn't designed to handle.\n",
    "    if period_payment * n <= loan_amount:\n",
    "        return None\n",
    "\n",
    "    # --- Objective Function ---\n",
    "    # We need to find the root `r` for the Present Value of an Annuity formula:\n",
    "    # f(r) = period_payment * (1 - (1 + r)**-n) / r - loan_amount = 0\n",
    "    # This is the function whose root (where f(r) = 0) we are trying to find.\n",
    "    def f(r):\n",
    "        if r == 0: # Avoid division by zero; the limit of the formula as r->0 is n * pmt\n",
    "            return (period_payment * n) - loan_amount\n",
    "        else:\n",
    "            return period_payment * (1 - (1 + r)**-n) / r - loan_amount\n",
    "\n",
    "    # --- Bisection Method Implementation ---\n",
    "    low = 0.0\n",
    "    high = 1.0  # An upper bound of 100% periodic rate is a safe starting point\n",
    "    tolerance = 1e-7 # The desired precision for the result\n",
    "    max_iterations = 100 # A safeguard against an infinite loop\n",
    "\n",
    "    # The bisection method requires the function to have opposite signs at the\n",
    "    # low and high ends of the bracket. For a valid loan (r>0), f(low) will be\n",
    "    # positive and f(high) will be negative.\n",
    "    if f(low) * f(high) > 0:\n",
    "        # If signs are the same, a simple root may not exist in this bracket.\n",
    "        # This can happen for unusual loan terms.\n",
    "        return None\n",
    "\n",
    "    for _ in range(max_iterations):\n",
    "        mid_rate = (low + high) / 2\n",
    "        f_mid = f(mid_rate)\n",
    "\n",
    "        # If the value of the function at the midpoint is very close to zero,\n",
    "        # we have found our root.\n",
    "        if abs(f_mid) < tolerance:\n",
    "            return mid_rate\n",
    "\n",
    "        # If the sign of f(mid_rate) is the same as f(low), it means the root\n",
    "        # lies in the upper half of the interval. So, we move the lower bound up.\n",
    "        elif f(low) * f_mid > 0:\n",
    "            low = mid_rate\n",
    "        # Otherwise, the root is in the lower half. We move the upper bound down.\n",
    "        else:\n",
    "            high = mid_rate\n",
    "            \n",
    "    # If the loop completes without converging, return None.\n",
    "    return None\n",
    "\n",
    "PV = 425000\n",
    "n = 360\n",
    "monthly_payment = 2346.87\n",
    "\n",
    "cal_r_from_period_payment(monthly_payment, n, PV) * 12"
   ]
  },
  {
   "cell_type": "code",
   "execution_count": null,
   "id": "4f26d76b",
   "metadata": {},
   "outputs": [
    {
     "data": {
      "text/plain": [
       "(1999282.7305999605, 0.16239606942510681)"
      ]
     },
     "execution_count": 16,
     "metadata": {},
     "output_type": "execute_result"
    }
   ],
   "source": []
  },
  {
   "cell_type": "code",
   "execution_count": null,
   "id": "f0a9c0e6",
   "metadata": {},
   "outputs": [],
   "source": []
  }
 ],
 "metadata": {
  "kernelspec": {
   "display_name": "eda",
   "language": "python",
   "name": "python3"
  },
  "language_info": {
   "codemirror_mode": {
    "name": "ipython",
    "version": 3
   },
   "file_extension": ".py",
   "mimetype": "text/x-python",
   "name": "python",
   "nbconvert_exporter": "python",
   "pygments_lexer": "ipython3",
   "version": "3.11.9"
  }
 },
 "nbformat": 4,
 "nbformat_minor": 5
}
